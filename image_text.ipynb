{
 "cells": [
  {
   "cell_type": "code",
   "execution_count": 2,
   "metadata": {},
   "outputs": [
    {
     "name": "stdout",
     "output_type": "stream",
     "text": [
      "a photograph of a lion family\n"
     ]
    }
   ],
   "source": [
    "from transformers.utils import logging\n",
    "\n",
    "logging.set_verbosity_error()\n",
    "\n",
    "import warnings\n",
    "\n",
    "warnings.filterwarnings(\"ignore\", message=\"xxx\")\n",
    "\n",
    "from transformers import BlipForConditionalGeneration\n",
    "\n",
    "model= BlipForConditionalGeneration.from_pretrained(\"Salesforce/blip-image-captioning-base\")\n",
    "\n",
    "from transformers import AutoProcessor\n",
    "\n",
    "processor= AutoProcessor.from_pretrained(\"Salesforce/blip-image-captioning-base\")\n",
    "\n",
    "from PIL import Image\n",
    "\n",
    "image= Image.open(\"images.jpg\")\n",
    "\n",
    "image\n",
    "\n",
    "\n",
    "text=\"a photograph of\"\n",
    "\n",
    "inputs= processor (image, text, return_tensors=\"pt\")\n",
    "\n",
    "inputs\n",
    "\n",
    "out= model.generate (**inputs)\n",
    "\n",
    "out\n",
    "\n",
    "print(processor.decode(out[0], skip_special_tokens=True))\n"
   ]
  }
 ],
 "metadata": {
  "kernelspec": {
   "display_name": "base",
   "language": "python",
   "name": "python3"
  },
  "language_info": {
   "codemirror_mode": {
    "name": "ipython",
    "version": 3
   },
   "file_extension": ".py",
   "mimetype": "text/x-python",
   "name": "python",
   "nbconvert_exporter": "python",
   "pygments_lexer": "ipython3",
   "version": "3.12.7"
  }
 },
 "nbformat": 4,
 "nbformat_minor": 2
}
